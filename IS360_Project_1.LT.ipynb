{
 "cells": [
  {
   "cell_type": "markdown",
   "metadata": {},
   "source": [
    "# Data Analysis with Pandas"
   ]
  },
  {
   "cell_type": "markdown",
   "metadata": {},
   "source": [
    "## Importing Libraries for Analysis\n",
    "\n",
    "The following libraries are imported into Python so that we can create our data table and graphically plot it. \n",
    "\n",
    "Note the magic command `%matplotlib inline`; without this, any plots you create will only display the matplotlib object."
   ]
  },
  {
   "cell_type": "code",
   "execution_count": 145,
   "metadata": {
    "collapsed": true
   },
   "outputs": [],
   "source": [
    "import pandas as pd\n",
    "import matplotlib.pyplot as plt\n",
    "import sys\n",
    "from pandas import DataFrame, read_csv\n",
    "%matplotlib inline"
   ]
  },
  {
   "cell_type": "markdown",
   "metadata": {},
   "source": [
    "## Creating data for analysis\n",
    "\n",
    "The information below is the data supplied for the assignment. I wanted to see if I could plot the data as it was presented for the assignment. Only blank rows were removed."
   ]
  },
  {
   "cell_type": "markdown",
   "metadata": {},
   "source": [
    "### Data is made up of two different flight statuses, and the location.\n",
    "\n",
    "We create a variable for each, which is a list of values. The status data is a list of strings, while each location is a list of integers."
   ]
  },
  {
   "cell_type": "code",
   "execution_count": 147,
   "metadata": {
    "collapsed": false
   },
   "outputs": [],
   "source": [
    "status = ['On Time', 'Delayed', 'On Time', 'Delayed']\n",
    "losangeles = [497, 62, 694, 117]\n",
    "phoenix = [221, 12, 4840, 415]\n",
    "sandiego = [212, 20, 383, 65]\n",
    "sanfran = [503, 102, 320, 129]\n",
    "seattle = [1841, 305, 201, 61]"
   ]
  },
  {
   "cell_type": "markdown",
   "metadata": {},
   "source": [
    "### Combine the data\n",
    "\n",
    "The `zip` function is used to combine the data into a list of tuples in the following format:\n",
    "\n",
    "`[('flight status', 'Quantity of on-time or delayed arrivals')]`\n",
    "\n",
    "The `AirlineDelays` variable will hold all of the data, which we will then pass into a DataFrame."
   ]
  },
  {
   "cell_type": "code",
   "execution_count": 55,
   "metadata": {
    "collapsed": false
   },
   "outputs": [
    {
     "data": {
      "text/plain": [
       "[('On Time', 497, 221, 212, 503, 1841),\n",
       " ('Delayed', 62, 12, 20, 102, 305),\n",
       " ('On Time', 694, 4840, 383, 320, 201),\n",
       " ('Delayed', 117, 415, 65, 129, 61)]"
      ]
     },
     "execution_count": 55,
     "metadata": {},
     "output_type": "execute_result"
    }
   ],
   "source": [
    "AirlineDelays = zip(status, losangeles, phoenix, sandiego, sanfran, seattle)\n",
    "AirlineDelays"
   ]
  },
  {
   "cell_type": "markdown",
   "metadata": {},
   "source": [
    "### Create a DataFrame object\n",
    "\n",
    "Now that the data is \"zipped\" together, we can take the data and put it in a DataFame."
   ]
  },
  {
   "cell_type": "code",
   "execution_count": 75,
   "metadata": {
    "collapsed": false,
    "scrolled": true
   },
   "outputs": [
    {
     "data": {
      "text/html": [
       "<div>\n",
       "<table border=\"1\" class=\"dataframe\">\n",
       "  <thead>\n",
       "    <tr style=\"text-align: right;\">\n",
       "      <th></th>\n",
       "      <th>Status</th>\n",
       "      <th>LA</th>\n",
       "      <th>PHX</th>\n",
       "      <th>Sandiego</th>\n",
       "      <th>SanFran</th>\n",
       "      <th>Seattle</th>\n",
       "    </tr>\n",
       "  </thead>\n",
       "  <tbody>\n",
       "    <tr>\n",
       "      <th>Alaska</th>\n",
       "      <td>On Time</td>\n",
       "      <td>497</td>\n",
       "      <td>221</td>\n",
       "      <td>212</td>\n",
       "      <td>503</td>\n",
       "      <td>1841</td>\n",
       "    </tr>\n",
       "    <tr>\n",
       "      <th>Alaska</th>\n",
       "      <td>Delayed</td>\n",
       "      <td>62</td>\n",
       "      <td>12</td>\n",
       "      <td>20</td>\n",
       "      <td>102</td>\n",
       "      <td>305</td>\n",
       "    </tr>\n",
       "    <tr>\n",
       "      <th>AM West</th>\n",
       "      <td>On Time</td>\n",
       "      <td>694</td>\n",
       "      <td>4840</td>\n",
       "      <td>383</td>\n",
       "      <td>320</td>\n",
       "      <td>201</td>\n",
       "    </tr>\n",
       "    <tr>\n",
       "      <th>AM West</th>\n",
       "      <td>Delayed</td>\n",
       "      <td>117</td>\n",
       "      <td>415</td>\n",
       "      <td>65</td>\n",
       "      <td>129</td>\n",
       "      <td>61</td>\n",
       "    </tr>\n",
       "  </tbody>\n",
       "</table>\n",
       "</div>"
      ],
      "text/plain": [
       "          Status   LA   PHX  Sandiego  SanFran  Seattle\n",
       "Alaska   On Time  497   221       212      503     1841\n",
       "Alaska   Delayed   62    12        20      102      305\n",
       "AM West  On Time  694  4840       383      320      201\n",
       "AM West  Delayed  117   415        65      129       61"
      ]
     },
     "execution_count": 75,
     "metadata": {},
     "output_type": "execute_result"
    }
   ],
   "source": [
    "df = DataFrame(data = AirlineDelays, columns=['Status', 'LA', 'PHX', 'Sandiego', 'SanFran', 'Seattle'],\n",
    "              index=['Alaska', 'Alaska', 'AM West', 'AM West'])\n",
    "df"
   ]
  },
  {
   "cell_type": "markdown",
   "metadata": {},
   "source": [
    "### Send DataFrame to a .csv File\n",
    "\n",
    "Now that the DataFrame of our flight data is contained in the `df` object, we will just the `.to_csv` command to create the .csv file.\n",
    "\n",
    "*Please note - when creating a .csv file within an IPython Notebook, the file will be created in the same directory as the notebook. The filepath below is different as system permissions would not let the notebook access the .csv file from the same directory.*"
   ]
  },
  {
   "cell_type": "code",
   "execution_count": 60,
   "metadata": {
    "collapsed": false
   },
   "outputs": [],
   "source": [
    "df.to_csv('airlinedly.csv', index=True, header=True)"
   ]
  },
  {
   "cell_type": "code",
   "execution_count": 63,
   "metadata": {
    "collapsed": false
   },
   "outputs": [],
   "source": [
    "csvfile = r'/Users/Shared/airlinedly.csv'\n",
    "df = pd.read_csv(csvfile)"
   ]
  },
  {
   "cell_type": "markdown",
   "metadata": {},
   "source": [
    "The `df` object now points to an opened .csv file:"
   ]
  },
  {
   "cell_type": "code",
   "execution_count": 64,
   "metadata": {
    "collapsed": false
   },
   "outputs": [
    {
     "data": {
      "text/html": [
       "<div>\n",
       "<table border=\"1\" class=\"dataframe\">\n",
       "  <thead>\n",
       "    <tr style=\"text-align: right;\">\n",
       "      <th></th>\n",
       "      <th>Unnamed: 0</th>\n",
       "      <th>Status</th>\n",
       "      <th>LA</th>\n",
       "      <th>PHX</th>\n",
       "      <th>Sandiego</th>\n",
       "      <th>SanFran</th>\n",
       "      <th>Seattle</th>\n",
       "    </tr>\n",
       "  </thead>\n",
       "  <tbody>\n",
       "    <tr>\n",
       "      <th>0</th>\n",
       "      <td>Alaska</td>\n",
       "      <td>On Time</td>\n",
       "      <td>497</td>\n",
       "      <td>221</td>\n",
       "      <td>212</td>\n",
       "      <td>503</td>\n",
       "      <td>1841</td>\n",
       "    </tr>\n",
       "    <tr>\n",
       "      <th>1</th>\n",
       "      <td>Alaska</td>\n",
       "      <td>Delayed</td>\n",
       "      <td>62</td>\n",
       "      <td>12</td>\n",
       "      <td>20</td>\n",
       "      <td>102</td>\n",
       "      <td>305</td>\n",
       "    </tr>\n",
       "    <tr>\n",
       "      <th>2</th>\n",
       "      <td>AM West</td>\n",
       "      <td>On Time</td>\n",
       "      <td>694</td>\n",
       "      <td>4840</td>\n",
       "      <td>383</td>\n",
       "      <td>320</td>\n",
       "      <td>201</td>\n",
       "    </tr>\n",
       "    <tr>\n",
       "      <th>3</th>\n",
       "      <td>AM West</td>\n",
       "      <td>Delayed</td>\n",
       "      <td>117</td>\n",
       "      <td>415</td>\n",
       "      <td>65</td>\n",
       "      <td>129</td>\n",
       "      <td>61</td>\n",
       "    </tr>\n",
       "  </tbody>\n",
       "</table>\n",
       "</div>"
      ],
      "text/plain": [
       "  Unnamed: 0   Status   LA   PHX  Sandiego  SanFran  Seattle\n",
       "0     Alaska  On Time  497   221       212      503     1841\n",
       "1     Alaska  Delayed   62    12        20      102      305\n",
       "2    AM West  On Time  694  4840       383      320      201\n",
       "3    AM West  Delayed  117   415        65      129       61"
      ]
     },
     "execution_count": 64,
     "metadata": {},
     "output_type": "execute_result"
    }
   ],
   "source": [
    "df"
   ]
  },
  {
   "cell_type": "markdown",
   "metadata": {},
   "source": [
    "We can check the index and columns of our DataFrame object using the `.index` and `.columns` parameters:"
   ]
  },
  {
   "cell_type": "code",
   "execution_count": 150,
   "metadata": {
    "collapsed": false
   },
   "outputs": [
    {
     "data": {
      "text/plain": [
       "Index([u'Alaska', u'Alaska', u'AM West', u'AM West'], dtype='object')"
      ]
     },
     "execution_count": 150,
     "metadata": {},
     "output_type": "execute_result"
    }
   ],
   "source": [
    "df.index"
   ]
  },
  {
   "cell_type": "code",
   "execution_count": 151,
   "metadata": {
    "collapsed": false
   },
   "outputs": [
    {
     "data": {
      "text/plain": [
       "Index([u'Status', u'LA', u'PHX', u'Sandiego', u'SanFran', u'Seattle'], dtype='object')"
      ]
     },
     "execution_count": 151,
     "metadata": {},
     "output_type": "execute_result"
    }
   ],
   "source": [
    "df.columns"
   ]
  },
  {
   "cell_type": "markdown",
   "metadata": {},
   "source": [
    "## Plotting Our Data\n",
    "\n",
    "Now that the data is put together and formatted the way we want, we can create some graphs using the `matplotlib` .plot function.\n",
    "\n",
    "Following is all of the data plotted as a horizontal bar chart. Displayed is each airline, grouped by arrival city, displaying delayed arrivals, then on-time arrivals:"
   ]
  },
  {
   "cell_type": "code",
   "execution_count": 111,
   "metadata": {
    "collapsed": false
   },
   "outputs": [
    {
     "data": {
      "text/plain": [
       "<matplotlib.axes._subplots.AxesSubplot at 0x10ec40310>"
      ]
     },
     "execution_count": 111,
     "metadata": {},
     "output_type": "execute_result"
    },
    {
     "data": {
      "image/png": "[encoded data removed]",
      "text/plain": [
       "<matplotlib.figure.Figure at 0x10f039490>"
      ]
     },
     "metadata": {},
     "output_type": "display_data"
    }
   ],
   "source": [
    "df.plot(kind='barh', title='Airline Arrivals')"
   ]
  },
  {
   "cell_type": "markdown",
   "metadata": {},
   "source": [
    "### Plotting DataFrame by Index\n",
    "\n",
    "We can plot just the cities by using a 'slice' of the dataframe labels. Note instead of a horizontal bar chart ('barh'), we created a normal vertical bar chart using `kind='bar'`. Also, a title for the chart can be added using the parameter `title='Name of Chart'`."
   ]
  },
  {
   "cell_type": "code",
   "execution_count": 121,
   "metadata": {
    "collapsed": false
   },
   "outputs": [
    {
     "data": {
      "text/plain": [
       "<matplotlib.axes._subplots.AxesSubplot at 0x1106b6650>"
      ]
     },
     "execution_count": 121,
     "metadata": {},
     "output_type": "execute_result"
    },
    {
     "data": {
      "image/png": "[encoded data removed]",
      "text/plain": [
       "<matplotlib.figure.Figure at 0x10f68fd90>"
      ]
     },
     "metadata": {},
     "output_type": "display_data"
    },
    {
     "data": {
      "image/png": "[encoded data removed]",
      "text/plain": [
       "<matplotlib.figure.Figure at 0x1103bf410>"
      ]
     },
     "metadata": {},
     "output_type": "display_data"
    }
   ],
   "source": [
    "df.loc['Alaska'].plot(kind='bar', title='Alaska, On Time vs. Delayed')\n",
    "df.loc['AM West'].plot(kind='bar', title='AM West, On Time vs. Delayed')"
   ]
  },
  {
   "cell_type": "markdown",
   "metadata": {},
   "source": [
    "Based on the information of above, we can see that Alaska airlines has the most arrival delays for the Seattle destination, and America West has the most delays to Phoenix.\n",
    "\n",
    "For a percentage, I was not able to successfully create the calculation by slicing the chart. However, despite the larger bars, the San Francisco destination is the airport with the highest percent of delayed flights for both airlines."
   ]
  },
  {
   "cell_type": "markdown",
   "metadata": {},
   "source": [
    "### Slicing Rows of Data\n",
    "\n",
    "If we sclice the rows, we can select just the rows with the quantities of delayed arrivals for each airline, so we can just compare the delays only:"
   ]
  },
  {
   "cell_type": "code",
   "execution_count": 152,
   "metadata": {
    "collapsed": false
   },
   "outputs": [
    {
     "data": {
      "text/plain": [
       "<matplotlib.axes._subplots.AxesSubplot at 0x11199c3d0>"
      ]
     },
     "execution_count": 152,
     "metadata": {},
     "output_type": "execute_result"
    },
    {
     "data": {
      "image/png": "[encoded data removed]",
      "text/plain": [
       "<matplotlib.figure.Figure at 0x110f24450>"
      ]
     },
     "metadata": {},
     "output_type": "display_data"
    },
    {
     "data": {
      "image/png": "[encoded data removed]",
      "text/plain": [
       "<matplotlib.figure.Figure at 0x110eb9510>"
      ]
     },
     "metadata": {},
     "output_type": "display_data"
    }
   ],
   "source": [
    "df[1:2].plot(kind='barh', title='Alaska Delayed Arrivals')\n",
    "df[3:].plot(kind='barh', title='AM West Delayed Arrivals')"
   ]
  }
 ],
 "metadata": {
  "kernelspec": {
   "display_name": "Python 2",
   "language": "python",
   "name": "python2"
  },
  "language_info": {
   "codemirror_mode": {
    "name": "ipython",
    "version": 2
   },
   "file_extension": ".py",
   "mimetype": "text/x-python",
   "name": "python",
   "nbconvert_exporter": "python",
   "pygments_lexer": "ipython2",
   "version": "2.7.10"
  }
 },
 "nbformat": 4,
 "nbformat_minor": 0
}
